{
 "cells": [
  {
   "cell_type": "code",
   "execution_count": 1,
   "metadata": {},
   "outputs": [],
   "source": [
    "import pandas as pd"
   ]
  },
  {
   "cell_type": "code",
   "execution_count": 2,
   "metadata": {},
   "outputs": [],
   "source": [
    "df_tweets = pd.read_csv(r'C:\\Users\\andy\\Downloads\\tweets (2).csv')"
   ]
  },
  {
   "cell_type": "code",
   "execution_count": 3,
   "metadata": {},
   "outputs": [
    {
     "data": {
      "text/plain": [
       "(2868249, 1)"
      ]
     },
     "execution_count": 3,
     "metadata": {},
     "output_type": "execute_result"
    }
   ],
   "source": [
    "tweets = df_tweets['content'].tolist()\n",
    "df_tweets.shape"
   ]
  },
  {
   "cell_type": "code",
   "execution_count": 5,
   "metadata": {},
   "outputs": [
    {
     "data": {
      "text/html": [
       "<div>\n",
       "<style scoped>\n",
       "    .dataframe tbody tr th:only-of-type {\n",
       "        vertical-align: middle;\n",
       "    }\n",
       "\n",
       "    .dataframe tbody tr th {\n",
       "        vertical-align: top;\n",
       "    }\n",
       "\n",
       "    .dataframe thead th {\n",
       "        text-align: right;\n",
       "    }\n",
       "</style>\n",
       "<table border=\"1\" class=\"dataframe\">\n",
       "  <thead>\n",
       "    <tr style=\"text-align: right;\">\n",
       "      <th></th>\n",
       "      <th>Acronym</th>\n",
       "      <th>Expansion</th>\n",
       "    </tr>\n",
       "  </thead>\n",
       "  <tbody>\n",
       "    <tr>\n",
       "      <th>0</th>\n",
       "      <td>2day</td>\n",
       "      <td>today</td>\n",
       "    </tr>\n",
       "    <tr>\n",
       "      <th>1</th>\n",
       "      <td>2m2h</td>\n",
       "      <td>too much too handle</td>\n",
       "    </tr>\n",
       "    <tr>\n",
       "      <th>2</th>\n",
       "      <td>2moro</td>\n",
       "      <td>tomorrow</td>\n",
       "    </tr>\n",
       "    <tr>\n",
       "      <th>3</th>\n",
       "      <td>2nite</td>\n",
       "      <td>tonight</td>\n",
       "    </tr>\n",
       "    <tr>\n",
       "      <th>4</th>\n",
       "      <td>4eae</td>\n",
       "      <td>for ever and ever</td>\n",
       "    </tr>\n",
       "  </tbody>\n",
       "</table>\n",
       "</div>"
      ],
      "text/plain": [
       "  Acronym            Expansion\n",
       "0    2day                today\n",
       "1    2m2h  too much too handle\n",
       "2   2moro             tomorrow\n",
       "3   2nite              tonight\n",
       "4    4eae    for ever and ever"
      ]
     },
     "execution_count": 5,
     "metadata": {},
     "output_type": "execute_result"
    }
   ],
   "source": [
    "df_abbreviations = pd.read_csv(r'C:\\Users\\andy\\Downloads\\com_abb.csv')\n",
    "df_abbreviations.head()\n"
   ]
  },
  {
   "cell_type": "code",
   "execution_count": 6,
   "metadata": {},
   "outputs": [
    {
     "data": {
      "text/plain": [
       "dict_keys(['2day', '2m2h', '2moro', '2nite', '4eae', 'aaf', 'aar', 'aayf', 'abd', 'ack', 'adih', 'adn', 'adr', 'aeap', 'afaic', 'afaik', 'aka', 'ama', 'ambw', 'aml', 'aota', 'asap', 'atb', 'ateotd', 'atm', 'awol', 'aydy', 'ayec', 'ayor', 'ays', 'aysos', 'ayt', 'b/c', 'b4', 'b4n', 'bau', 'bbiaf', 'bbiam', 'bbias', 'bbs', 'bbt', 'bcnu', 'bcoy', 'bd', 'bf', 'bfaw', 'bfd', 'bff', 'bffn', 'bfn', 'bg', 'bgwm', 'bhl8', 'bib', 'bn', 'bol', 'bot', 'boyf', 'brb', 'brh', 'bro', 'brt', 'bt', 'btw', 'byoc', 'cmb', 'cmiiw', 'cob', 'csl', 'cu', 'cua', 'cul', 'cwyl', 'cya', 'cye', 'cyo', 'dkdc', 'dm', 'dts', 'dur', 'dwbh', 'e1', 'ef4t', 'eod', 'f2f', 'ftf', 'faq', 'fb', 'ff', 'fish', 'fitb', 'ftbomh', 'ftl', 'ftw', 'fwb', 'fwiw', 'fyeo', 'fyi', 'g4c', 'ga', 'gac', 'gas', 'gb', 'gbu', 'gf', 'gfn', 'glhf', 'gmta', 'gnite', 'gr8', 'gratz', 'grl', 'gtsy', 'h&k', 'h2cus', 'h8', 'hag1', 'hagn', 'hand', 'hawt', 'hmb', 'hmu', 'hoas', 'hru', 'ht', 'hth', 'hw', 'iac', 'iae', 'ianal', 'iao', 'ic', 'icymi', 'idc', 'ihni', 'iirc', 'ikr', 'ily', 'im', 'imho', 'imo', 'ims', 'irl', 'isly', 'iso', 'iu2u', 'iykwim', 'j/k', 'j4f', 'jff', 'jic', 'jlmk', 'jmo', 'jsyk', 'jw', 'k', 'kk', 'kiss', 'kit', 'l8', 'l8r', 'lho', 'lmao', 'lmbo', 'lmk', 'lol', 'loti', 'ltns', 'lylas', 'lysm', 'mc', 'mgmt', 'mm', 'msm', 'mu', 'myob', 'nagi', 'nfm', 'nfs', 'nm', 'noyb', 'np', 'nsfl', 'nsfw', 'nts', 'nvm', 'oh', 'oic', 'omg', 'omw', 'orly', 'ot', 'otb', 'otoh', 'otp', 'ott', 'paw', 'pcm', 'pls', 'pov', 'ppl', 'ptb', 'ptmm', 'qq', 'rak', 'rbtl', 'rip', 'rl', 'rofl', 'rt ', 'rtm', 'rys', 'sby', 'sfaik', 'sh', 'simyc', 'sis', 'sitd', 'smh', 'sol', 'srsly', 'sry', 'ssdd', 'stby', 'swak', 'swyp', 'tafn', 'tba', 'tbc', 'tbh', 'tbl', 'tcb', 'tfh', 'tfs', 'tfti', 'tgif', 'thx', 'tia', 'tiad', 'tlc', 'tlk2ul8r', 'tmi', 'tmrw', 'ttyl', 'ttys', 'tyfyc', 'tyvm', 'u4e', 'ur', 'vat', 'vbg', 'vsf', 'wam', 'wb', 'wc', 'we', 'weg', 'witp', 'wknd', 'wtf', 'wth', 'wtpa', 'wuf', 'wycm', 'wywh', 'xlnt', 'xoxo', 'ycmu', 'ygm', 'ymmv', 'yolo', 'ytb', 'yw', 'ywsyls', 'aab', 'aac', 'aak', 'aamof', 'aap', 'aarp', 'aat', 'aawy', 'abc', 'abdc', 'abf', 'abfab', 'abg', 'abh', 'abp', 'abu', 'ac', 'aclu', 'acme', 'acp', 'acta', 'acu', 'ad', 'adad', 'add', 'aded', 'adgth', 'adhd', 'adl', 'ads', 'adsl', 'adtr', 'ae', 'aeae', 'afaia', 'afaiaa', 'afaiac', 'afaics', 'afaict', 'afair', 'afap', 'afc', 'affa', 'afi', 'afk', 'afl', 'afn', 'afp', 'afrl', 'afs', 'agc', 'agh', 'agm', 'agp', 'agt', 'agw', 'ai', 'aib', 'aids', 'aigf', 'aiic', 'aikrn', 'aimh', 'ainec', 'aio', 'aisb', 'aisi', 'aitr', 'aityd', 'aiui', 'aiyc', 'aj', 'aktf', 'alf', 'alg', 'alihal', 'alkqn', 'alol', 'alotbsol', 'alu', 'alwp', 'am', 'amaa', 'amap', 'amc', 'amd', 'amg', 'amn', 'amof', 'amog', 'amt', 'amv', 'amw', 'an', 'anc', 'anfawfos', 'anfscd', 'ansi', 'antm', 'anzac', 'ao', 'aob', 'aod', 'aoe', 'aok', 'aom', 'aon', 'aos', 'aot', 'aots', 'aow', 'aoyp', 'ap', 'apb', 'apc', 'api', 'apm', 'apn', 'apo', 'apu', 'apyr', 'aq', 'aqap', 'aqf', 'ar', 'ark', 'arpa', 'arpanet', 'arpu', 'asaic', 'asaik', 'asas', 'asat', 'asayc', 'asbo', 'ascii', 'aspca', 'at&t', 'ata', 'atap', 'atc', 'atd', 'atf', 'atgatt', 'ath', 'atmo', 'atn', 'atoy', 'atq', 'atst', 'att', 'attt', 'atv', 'atvb', 'atw', 'atwa', 'bac', 'bacs', 'bagl', 'bah', 'bb', 'bb4n', 'bbam', 'bbb', 'bbbw', 'bbc', 'bbeg', 'bbfl', 'bbfn', 'bbg', 'bbiab', 'bbiaw', 'bbk', 'bbl', 'bbm', 'bbml', 'bbn', 'bbo', 'bbq', 'bbr', 'bbv', 'bbw', 'bbwl', 'bc', 'bcbw', 'bcc', 'bcd', 'bce', 'bcf', 'bcg', 'bcs', 'bdn', 'bdoml', 'bdu', 'bfa', 'bfab', 'bfam', 'bfb', 'bffae', 'bffl', 'bffle', 'bffltddup', 'bffwb', 'bfitw', 'bfk', 'bfmv', 'bfp', 'bftp', 'bfut', 'bfwb', 'bgd', 'bgf', 'bgl', 'bgm', 'bgt', 'bh', 'bhd', 'bhh', 'bhm', 'bho', 'bhs', 'biab', 'bic', 'bicbw', 'bieh', 'biffl', 'bing', 'bm', 'bm4l', 'bmak', 'bmb', 'bmbo', 'bme', 'bmfe', 'bmfl', 'bmg', 'bmi', 'bml', 'bmoc', 'bms', 'bmt', 'bmth', 'bmttve', 'bmus', 'bmv', 'bmw', 'bmx', 'bnb', 'bnf', 'bni', 'bnib', 'bnoc', 'bnp', 'bnr', 'bnwot', 'bnwt', 'bo', 'boat', 'bobfoc', 'boed', 'bogo', 'bogof', 'bogsat', 'cc', 'ccc', 'ccg', 'ccie', 'ccl', 'ccna', 'ccr', 'cctv', 'ccw', 'cd', 'cdc', 'cdma', 'cd rw', 'clwy', 'cm', 'cmar', 'cme', 'cmeo', 'cmh', 'cmho', 'cmi', 'cmiyc', 'cml', 'cmn', 'cmos', 'cms', 'cmu', 'cmyk', 'cnn', 'cny', 'co', 'coa', 'cod', 'col', 'crb', 'crbt', 'cwtsy', 'cyb', 'cybi', 'cydi', 'cydm', 'cyf', 'cyl', 'cym', 'dln', 'dls', 'dltbbb', 'dltbgyd', 'dltm', 'dlv', 'dmaf', 'dmal', 'dmb', 'dmc', 'dmca', 'dmi', 'dmiid', 'dmm', 'dmml', 'dms', 'dmt', 'dmta', 'dmv', 'dmw', 'dmx', 'dmy', 'dmz', 'dn', 'dna', 'dnc', 'dnd', 'dndc', 'dne', 'dnf', 'dnftt', 'dnk', 'dnm', 'dnp', 'dnr', 'dns', 'dntk', 'dnw', 'doa', 'dob', 'doc', 'dod', 'doe', 'dof', 'dofl', 'drt', 'ds', 'dsd', 'dsl', 'dslr', 'dsp', 'dss', 'dst', 'dt', 'dta', 'dtam', 'dtb', 'dtc', 'dtd', 'dte', 'dth', 'dtl', 'dtm', 'dtms', 'dtmwtd', 'dtp', 'dtr', 'dtrt', 'dtt', 'dttc', 'dttm', 'dtyt', 'ebm', 'ebt', 'elol', 'eob', 'eoc', 'eoe', 'eof', 'eog', 'eol', 'eom', 'eor', 'eos', 'eot', 'eotd', 'eotw', 'eotwawki', 'eow', 'epos', 'eprom', 'erp', 'esa', 'esb', 'esd', 'esl', 'esol', 'esp', 'espn', 'esrb', 'est', 'estd', 'et', 'eta', 'etc', 'etd', 'etf', 'etid', 'etw', 'eu', 'eua', 'euc', 'eula', 'ev', 'fya', 'fyc', 'fye', 'fyk', 'fym', 'fyp', 'fyr', 'fyt', 'g o a t', 'gafia', 'gafm', 'gba', 'gbfn', 'gbh', 'gbml', 'gbnf', 'gbp', 'gbtm', 'gbtw', 'gbwy', 'gby', 'gc', 'gcf', 'gcmg', 'gcse', 'gcwok', 'gd', 'gdfr', 'gdi', 'gdp', 'ge', 'ged', 'gfa', 'gfak', 'gfc', 'gfete', 'gff', 'gfi', 'gfp', 'gftw', 'gfu', 'gfwl', 'gfy', 'gg', 'gga', 'ggbb', 'ggg', 'ggn', 'ggnore', 'ggoh', 'gh', 'ghb', 'ghd', 'giwist', 'giy', 'giyf', 'gj', 'gjoac', 'gjwhf', 'gk', 'gky', 'gl', 'gl hf', 'gla', 'glag', 'glotr', 'glta', 'glty', 'glu', 'glws', 'glwt', 'gm', 'gma', 'gmab', 'gmt', 'gmv', 'gmy', 'gn', 'gnd', 'gne', 'gnfb', 'gnsd', 'goat', 'gomer', 'gomf', 'goml', 'goomf', 'gooml', 'gop', 'gp', 'gpa', 'gpc', 'gpl', 'gpoy', 'gpoyw', 'gprs', 'gps', 'gpu', 'gr', 'gsd', 'gsm', 'gsoh', 'gsr', 'gstq', 'gsw', 'gtb', 'gtbb', 'gtbosh', 'gtd', 'gtg', 'gtgg', 'gth', 'gthba', 'gtho', 'gtk', 'gtm', 'gto', 'gtrm', 'gtts', 'gtw', 'gu', 'guti', 'gw', 'gwas', 'gwc', 'gwg', 'gwi', 'gwk', 'gwp', 'gwr', 'gws', 'gwtf', 'gwtp', 'gyaldem', 'gyc', 'gyfs', 'gyo', 'gyt', 'hagd', 'hage', 'hagl', 'hago', 'hags', 'hagt', 'haistk', 'hay', 'hayd', 'hayt', 'hbd', 'hbk', 'hbn', 'hbo', 'hbp', 'hbt', 'hbtu', 'hbty', 'hby', 'hc', 'hcdajfu', 'hcit', 'hd', 'hdd', 'hdmi', 'hdth', 'hdtv', 'hdy', 'hdyd', 'hdydt', 'hdyk', 'he', 'hea', 'henry', 'hf', 'hffa', 'hfgl', 'hfy', 'hg', 'hgh', 'hgi', 'hgl', 'hgtv', 'hgv', 'hh', 'hhis', 'hhoj', 'hhok', 'hhvf', 'hhww', 'hig', 'hiik', 'himym', 'hiv', 'hiwth', 'hjntiy', 'hk', 'hl', 'hlas', 'hmi', 'hmihy', 'hml', 'hmp', 'hms', 'hmul', 'hmv', 'hng', 'hnos', 'hnr', 'hny', 'ho', 'hoa', 'hoay', 'hof', 'hog', 'hoh', 'holland', 'hov', 'howdy', 'hp', 'hq', 'hr', 'hrc', 'hrh', 'hsbc', 'hsh', 'hsik', 'hsit', 'hsl', 'hsm', 'hsp', 'hspda', 'hst', 'hsv2', 'htbt', 'htc', 'hte', 'htg', 'hthfys', 'htm', 'html', 'htsys', 'http', 'https', 'httr', 'hu', 'hua', 'hvac', 'hvd', 'hwb', 'hwga', 'hwp', 'hwsnbn', 'hwu', 'hwyd', 'hyb', 'hyd', 'hyfb', 'hyg', 'hyh', 'hyip', 'hyp', 'hys', 'hyu', 'ia', 'iab', 'iabw', 'iad', 'iag', 'iak', 'ial', 'ialto', 'iama', 'ianad', 'ias', 'iau', 'iaw', 'iawtc', 'iawtcsm', 'iawtp', 'iay', 'ib', 'ib2d', 'ib4tl', 'iban', 'ibb', 'ibk', 'ibl', 'ibm', 'ibmts', 'ibs', 'ibtd', 'ibtl', 'ibuwu', 'ibw', 'ibyp', 'icam', 'icay', 'icb', 'icbb', 'icbi', 'icbinb', 'icbm', 'icbsst', 'icbw', 'icc', 'iccl', 'icr', 'icsl', 'icstay', 'ict', 'icu', 'icw', 'icydk', 'idbi', 'idby', 'ide', 'idec', 'idek', 'ideky', 'idewtk', 'idfg', 'idfli', 'idgad', 'idghp', 'idgi', 'idhac', 'idhtt', 'idi', 'idj', 'idk', 'idke', 'idkw', 'idkwtd', 'idkwym', 'idky', 'idl', 'idli', 'idlt', 'idly', 'idm', 'idnk', 'idr', 'idrc', 'idrk', 'idst', 'idt', 'idts', 'idu', 'idunno', 'idw', 'idwk', 'idwt', 'idwtai', 'idwtk', 'ie', 'ied', 'ieee', 'iep', 'ifm', 'igi', 'igm', 'igmc', 'ign', 'ignb', 'ignts', 'igs', 'igtg', 'igu', 'igwt', 'igy', 'igyb', 'ih8u', 'ihac', 'ihdk', 'ihm', 'ihml', 'ihnc', 'iho', 'ihop', 'ihp', 'ihs', 'iht', 'ihy', 'ihydm', 'ihysm', 'iib', 'iifym', 'iih', 'iil', 'iinm', 'iir', 'iis', 'iituwutmas', 'iitwi', 'iitywimiwhtky', 'iitywtmwybmad', 'iitywtmwykm', 'iitywybmad', 'iiuc', 'iiwii', 'iiwy', 'ij', 'ijaf', 'ijdk', 'ijg', 'ijk', 'ijl', 'ijs', 'ijwtk', 'ijwts', 'ik', 'ikh', 'ikhyf', 'ikly', 'ikm', 'ikmty', 'ikn', 'ikt', 'iktf', 'iktr', 'ikwum', 'ikwydls', 'ikwyl', 'ikwym', 'iky', 'ikyp', 'il', 'ild', 'ilh', 'ili', 'ilm', 'ilml', 'ilmo', 'ilny', 'ils', 'ilt', 'ily2', 'ilya', 'ilyaaf', 'ilyam', 'ilyb', 'ilyf', 'ilyg', 'ilyk', 'ilyl', 'ilylas', 'ilylt', 'ilym', 'ilysdm', 'ilysm', 'ilysmb', 'ilysmm', 'ilyt', 'ilytb', 'ilyvm', 'ilywamh', 'imaho', 'imao', 'imap', 'imbo', 'imco', 'imd', 'imdb', 'ime', 'imeo', 'imf', 'imh', 'imk', 'immao', 'immd', 'imml', 'imnsho', 'imoo', 'imp', 'impo', 'imr', 'imsmr', 'imu', 'imusm', 'imvu', 'imwtk', 'imy', 'imya', 'imym', 'imysm', 'imyt', 'inah', 'inb', 'inbd', 'incydk', 'inpo', 'inrs', 'ins', 'intk', 'intp', 'invu', 'inwly', 'iny', 'ioab', 'ioc', 'ioh', 'ioi', 'ioic', 'iokiyar', 'iom', 'iomw', 'ion', 'iou', 'iow', 'ioyk', 'ip', 'ipa', 'ipc', 'ipo', 'iq', 'ir', 'ira', 'irah', 'irc', 'irdc', 'irdk', 'irly', 'irmc', 'irs', 'isb', 'isbn', 'isdk', 'isdn', 'ishk', 'isp', 'iss', 'issn', 'istatoy', 'istg', 'istm', 'istr', 'iswydt', 'iswym', 'ita', 'itai', 'italy', 'itc', 'itf', 'itg', 'itiailwy', 'itiky', 'itilu', 'itily', 'itk', 'itm', 'itma', 'itn', 'ito', 'itoy', 'itp', 'its', 'itso', 'itt', 'ittet', 'itv', 'itwym', 'ityf', 'ityl', 'itym', 'itys', 'ivf', 'iwaly', 'iwbb', 'iwc', 'iwhi', 'iwid', 'iwik', 'iwiwt', 'iwm', 'iwoot', 'iwtd', 'iwy', 'iyam', 'iybtyba', 'iyd', 'iydk', 'iydm', 'iyf', 'iygm', 'iyh', 'iyl', 'iyo', 'iyss', 'iyswim', 'iytt', 'iyw', 'iyww', 'j', 'jaf', 'jafa', 'japan', 'jas', 'jat', 'jatq', 'jb', 'jbh', 'jbt', 'jbu', 'jby', 'jc', 'jcb', 'jd', 'jdi', 'jdlr', 'jdm', 'jfk', 'jfn', 'jft', 'jftr', 'jfy', 'jfyi', 'jg', 'jgb', 'jgh', 'jgi', 'jgl', 'jhc', 'jhp', 'jicydk', 'jj', 'jk', 'jkd', 'jls', 'jlt', 'jluk', 'jly', 'jlyk', 'jm', 'jma', 'jmho', 'jml', 'jms', 'jmt', 'jn', 'jooc', 'jp', 'jpa', 'jpeg', 'jrotc', 'jrpg', 'js', 'jsmn', 'jsp', 'jsu', 'jtb', 'jtc', 'jtlyk', 'jtol', 'jtoy', 'jtty', 'jtusk', 'juad', 'jv', 'jwas', 'jwd', 'jwg', 'jwtk', 'jwtlyk', 'jwu', 'jww', 'kafm', 'kcaco', 'kcco', 'kd', 'kdr', 'kf', 'kfc', 'kgb', 'kh', 'khyf', 'kia', 'kicks', 'kig', 'kim', 'kio', 'kip', 'kir', 'kirf', 'kis', 'kisa', 'kiu', 'kiv', 'kkk', 'kkkk', 'km', 'kmfc', 'kml', 'kmn', 'kmp', 'kmt', 'kmu', 'kod', 'kos', 'kotc', 'koth', 'kotl', 'kotor', 'kp', 'kpc', 'kpg', 'kpi', 'kr', 'kro', 'ks', 'ktbffh', 'ktbspa', 'ktf', 'kwim', 'kwis', 'kyfc', 'kyo', 'kyp', 'lafs', 'lak', 'lal', 'lalb', 'lam', 'lamn', 'lan', 'lapd', 'larp', 'lart', 'laser', 'lat', 'latm', 'lbc', 'lbd', 'lbdn', 'lbh', 'lbm', 'lbnl', 'lbr', 'lbrs', 'lbvs', 'lbw', 'lc', 'lcd', 'lcts', 'ld', 'lda', 'ldh', 'ldi', 'ldl', 'ldo', 'ldr', 'lds', 'le', 'lec', 'led', 'leo', 'lev', 'lf', 'lf1m', 'lfdy', 'lfg', 'lfm', 'lfmf', 'lfp', 'lfti', 'lftsu', 'lfw', 'lg', 'lgbtq', 'lgd', 'lgfb', 'lgmh', 'lgo', 'lgt', 'lgtm', 'lh', 'lhh', 'lhk', 'lhm', 'lhyw', 'li', 'lifo', 'lig', 'lih', 'lihop', 'liita', 'lilaboc', 'limb', 'limh', 'limm', 'lirl', 'lis', 'lits', 'liu', 'ljbf', 'll', 'llap', 'llc', 'llh', 'lll', 'llttf', 'lm', 'lma', 'lmad', 'lmam', 'lmap', 'lmc', 'lmco', 'lmg', 'lmgtfy', 'lmho', 'lmirl', 'lml', 'lmpo', 'lmr', 'lms', 'lmso', 'lmt', 'lmtal', 'lnf', 'lnib', 'lnt', 'loa', 'lolak', 'loll', 'lolol', 'lolv', 'lomb', 'loml', 'lomo', 'lool', 'loq', 'lorl', 'los', 'lotd', 'lotr', 'lotro', 'lovl', 'loyol', 'loz', 'lp', 'lpg', 'lpt', 'lqi', 'lql', 'lqtm', 'lqtms', 'lqty', 'lrf', 'lrg', 'lrl', 'lsat', 'lse', 'lsh', 'lshic', 'lshidmt', 'lshmbh', 'lsi', 'lsmft', 'lsmih', 'lsp', 'lss', 'lstm', 'lta', 'ltb', 'ltd', 'ltg', 'lth', 'ltic', 'ltl', 'ltm', 'ltma', 'ltmq', 'ltms', 'ltnc', 'ltnt', 'ltp', 'ltr', 'lts', 'lty', 'lui', 'lul', 'lulab', 'lulas', 'lv', 'lw', 'lwicd', 'lwkm', 'lwkmd', 'lwm', 'lwp', 'lwt', 'lwwy', 'ly', 'lya', 'lyaaf', 'lyb', 'lyf', 'lyk', 'lyl', 'lylab', 'lylaf', 'lylc', 'lylmb', 'lylt', 'lym', 'lymi', 'lymy', 'lymywy', 'lyr', 'lyt', 'lytd', 'lz', 'ma', 'maab', 'mac', 'madd', 'mapoti', 'mas', 'maw', 'mawoy', 'mba', 'mbd', 'mbf', 'mbfam', 'mbm', 'mbn', 'mbo', 'mbps', 'mbr', 'mbt', 'mbw', 'mcl', 'mcm', 'mcp', 'mcr', 'mcw', 'mdf', 'mdk', 'mdr', 'mdw', 'mego', 'mfc', 'mfeo', 'mfg', 'mfl', 'mfw', 'mgby', 'mgd', 'mgk', 'mgm', 'mgo', 'mgs', 'mh', 'mhbfy', 'mho', 'mhoty', 'mhr', 'mi6', 'mia', 'mib', 'midi', 'miga', 'mih', 'mihop', 'mil', 'mimo', 'mip', 'mips', 'mirl', 'misb', 'miso', 'mj', 'mlas', 'mlb', 'mlg', 'mlia', 'mlib', 'mlig', 'mlim', 'mlm', 'mlp', 'mls', 'mltr', 'mlyp', 'mm2', 'mma', 'mmamp', 'mmao', 'mmc', 'mmd', 'mmh', 'mmi', 'mml', 'mmofps', 'mmorpg', 'mms', 'mmt', 'mmv', 'mnc', 'mnf', 'mnt', 'mo', 'moab', 'moam', 'moas', 'moba', 'moc', 'moh', 'mol', 'moo', 'mopo', 'moq', 'mos', 'mot', 'motb', 'motd', 'motku', 'moto', 'motwyw', 'mou', 'mp', 'mpa', 'mpaa', 'mpe', 'mpeg', 'mpg', 'mph', 'mpo', 'mpog', 'mpua', 'mpv', 'mr', 'mre', 'mri', 'mrp', 'mrw', 'msdn', 'msdos', 'ms dos', 'msf', 'msfam', 'msg', 'msi', 'msrp', 'mst', 'mta', 'mtbf', 'mtbmw', 'mtc', 'mtd', 'mte', 'mtf', 'mtfbwy', 'mtg', 'mtlbwy', 'mto', 'mtuk', 'mtv', 'mtw', 'mtyk', 'mua', 'mud', 'mung', 'mva', 'mvp', 'mw2', 'mw3', 'mwc', 'mwf', 'mwi', 'mwm', 'mwpp', 'my', 'myb', 'mych', 'myf', 'myggwy', 'myl', 'mymp', 'myodb', 'mysm', 'myt', 'na', 'naa', 'naacp', 'nabd', 'nac', 'nagl', 'nak', 'nal', 'nalgas', 'nalgo', 'nalopkt', 'nambla', 'nap', 'narp', 'naru', 'nas', 'nasa', 'nascar', 'nasdaq', 'nasl', 'natm', 'nato', 'natty', 'nb', 'nba', 'nbb', 'nbc', 'nbd', 'nbf', 'nbg', 'nbif', 'nbk', 'nbm', 'nbsb', 'nbt', 'nbtd', 'nbtw', 'nc', 'nc 17', 'ncaa', 'ncb', 'ncis', 'ncmo', 'ncnr', 'ncns', 'nco', 'nda', 'nde', 'ndi', 'ndp', 'ndr', 'nds', 'nea', 'ned', 'nedm', 'neet', 'negl', 'negu', 'nei', 'ner', 'nf', 'nfa', 'nfaa', 'nfi', 'nfl', 'nfn', 'nfsw', 'nft', 'nfy', 'nfz', 'ng', 'ngh', 'ngl', 'ngo', 'ngu', 'nguns', 'nh', 'nhb', 'nhd', 'nhf', 'nhft', 'nhl', 'nhn', 'nhoi', 'nhs', 'nhtb', 'ni', 'niamy', 'nib', 'nic', 'nice', 'nicu', 'nid', 'nik', 'nimby', 'niml', 'nin', 'nism', 'nitm', 'nitw', 'nj', 'njpw', 'nk', 'nka', 'nkotb', 'nkz', 'nla', 'nli', 'nlm', 'nlt', 'nlyg', 'nme', 'nmf', 'nmg', 'nmh', 'nmhjc', 'nmi', 'nmj', 'nmjc', 'nmjcu', 'nmn', 'nmo', 'nmp', 'nmr', 'nms', 'nmt', 'nmu', 'nmw', 'nmwh', 'nmy', 'nn', 'nnito', 'nnto', 'nntp', 'nntr', 'noc', 'noi', 'nok', 'nokd', 'noly', 'nom', 'nomb', 'nos', 'nota', 'notb', 'notw', 'noydb', 'npaa', 'npc', 'npi', 'npnt', 'npo', 'npr', 'npw', 'npz', 'nqat', 'nqr', 'nr', 'nra', 'nre', 'nrfb', 'nri', 'nrl', 'nrn', 'nsa', 'nsaw', 'nsd', 'nsf', 'nsfa', 'nsftbc', 'nsfv', 'nsm', 'nsn', 'nspcc', 'nsw', 'nt', 'ntb', 'ntbcw', 'ntd', 'ntfs', 'ntk', 'ntl', 'ntm', 'ntmy', 'ntn', 'ntr', 'ntsc', 'ntsh', 'ntt', 'nttawwt', 'nttu', 'ntw', 'ntwf', 'nty', 'nus', 'nvms', 'nvn', 'nvng', 'nw', 'nwih', 'nwim', 'nwj', 'nwly', 'nwm', 'nwnc', 'nwo', 'nwot', 'nws', 'nwt', 'ny', 'nyb', 'nyc', 'nyd', 'nye', 'nyf', 'nyi', 'nyk', 'nyob', 'nyp', 'nypd', 'nyse', 'nyt', 'nyu', 'oa', 'oan', 'oao', 'oap', 'oatus', 'oaus', 'ob', 'obby', 'obe', 'obhwf', 'obo', 'obq', 'obtw', 'obx', 'oc', 'ocd', 'ocn', 'oco', 'ocr', 'oct', 'odaat', 'odf', 'odg', 'odl', 'odst', 'odt', 'oe', 'oed', 'oem', 'ofay', 'ofgs', 'ofh', 'ofoc', 'ofwgkta', 'og', 'ogim', 'ogk', 'ogn', 'ohac', 'ohim', 'ohko', 'ohn', 'ohs', 'oht', 'ohw', 'oj', 'ojd', 'ojt', 'oled', 'ollg', 'oloy', 'oltl', 'om', 'oma', 'omb', 'omd', 'omdb', 'omfsm', 'omfug', 'omga', 'omgd', 'omgna', 'omj', 'omjc', 'oml', 'oms', 'omsj', 'omt', 'omwh', 'omz', 'onm', 'onna', 'onnta', 'ono', 'ons', 'ontd', 'onyd', 'ooa', 'ooak', 'oobe', 'ooc', 'oof', 'ooh', 'ooi', 'oom', 'oomf', 'ooml', 'oomm', 'ooo', 'oop', 'oos', 'oosoom', 'oot', 'ootb', 'ootc', 'ootd', 'ooto', 'ootw', 'ooyl', 'ooym', 'op', 'opb', 'opk', 'opm', 'opps', 'osfa', 'oslt', 'oso', 'oss', 'ost', 'ota', 'otc', 'otd', 'ote', 'otf', 'otfl', 'otg', 'oth', 'otk', 'otlta', 'otm', 'otn', 'oto', 'otooh', 'otr', 'ots', 'otth', 'ottomh', 'otw', 'oty', 'ou', 'ouat', 'ouo', 'ova', 'ovno', 'owk', 'ownm', 'owoa', 'ows', 'owtte', 'oy', 'oyb', 'oyg', 'oyo', 'pa', 'pabx', 'pan', 'patd', 'patt', 'paye', 'payg', 'pb', 'pbb', 'pbj', 'pbn', 'pbp', 'pbq', 'pbr', 'pbs', 'pbuh', 'pbwy', 'pc', 'pcb', 'pci', 'pcmcia', 'pcmia', 'pcmr', 'pd', 'pda', 'pdbaz', 'pdea', 'pdf', 'pdg', 'pdoa', 'pdp', 'pdq', 'pdt', 'pe', 'pebcac', 'pebcak', 'pebkac', 'pemdas', 'pews', 'pfa', 'pfb', 'pfc', 'pfp', 'pg', 'pga', 'pgda', 'pgp', 'phat', 'phb', 'pibe', 'pic', 'picnic', 'pimpl', 'pin', 'pipa', 'piq', 'pir', 'pitme', 'pitr', 'piu', 'pk', 'pkb', 'pki', 'pkit', 'pla', 'plc', 'pld', 'plh', 'pli', 'pll', 'plma', 'plmk', 'plos', 'plp', 'plr', 'plrn', 'plu', 'plur', 'pm', 'pma', 'pmb', 'pmc', 'pmd', 'pmf', 'pmfji', 'pmigbom', 'pmji', 'pmt', 'pmymhmmfswgad', 'pnc', 'pnl', 'pnp', 'pnr', 'pnw', 'poa', 'pod', 'pof', 'poi', 'poidh', 'pomo', 'ponr', 'potc', 'potd', 'poto', 'pots', 'potus', 'potw', 'poty', 'pow', 'ppb', 'ppc', 'ppd', 'ppm', 'pppw', 'pps', 'ppu', 'ppv', 'pq', 'pr', 'prc', 'ps', 'ps&qs', 'ps2', 'ps3', 'ps4', 'psa', 'psb', 'psh', 'psi', 'psm', 'psn', 'psp', 'psr', 'pst', 'pstn', 'psu', 'pt', 'ptc', 'pti', 'ptl', 'ptm', 'pto', 'ptp', 'ptsd', 'ptt', 'ptw', 'ptz', 'pua', 'pug', 'puv', 'pv', 'pvc', 'pve', 'pvm', 'pvp', 'pvr', 'pwor', 'pwos', 'pwt', 'px', 'pyp', 'pyt', 'qa', 'qantas', 'qap', 'qb', 'qc', 'qed', 'qfe', 'qfmt', 'qfp', 'qft', 'qi', 'ql', 'qno', 'qol', 'qos', 'qotd', 'qotsa', 'qp', 'qq4u', 'qs', 'qvc', 'r5', 'ra', 'rac', 'ram', 'raok', 'ras', 'ratm', 'rawl', 'rawr', 'rbay', 'rbg', 'rbv', 'rc', 'rct', 'rd', 'rdc', 'rdh', 'rdj', 'rdm', 'rdo', 'rdr', 'rfc', 'rfi', 'rfid', 'rfp', 'rfq', 'rft', 'rfts', 'rfyl', 'rgb', 'rhcp', 'rhd', 'rhi', 'rhip', 'rhs', 'rino', 'riyl', 'rlab', 'rlf', 'rltw', 'rma', 'rme', 'rml', 'rmt', 'rmv', 'rn', 'rna', 'rnb', 'rng', 'rnr', 'ro', 'roar', 'rofc', 'roflmfao', 'roflol', 'rog', 'roh', 'roi', 'rolf', 'ror', 'ros', 'rotc', 'rotf', 'rotffnar', 'rotfl', 'rotflol', 'rotgl', 'rotk', 'rotm', 'rov', 'row', 'roy', 'rpc', 'rpf', 'rpg', 'rpm', 'rps', 'rq', 'rsi', 'rsn', 'rspb', 'rspca', 'rss', 'rsvp', 'rt', 'rta', 'rtb', 'rtd', 'rtf', 'rtfaq', 'rtfd', 'rtfi', 'rtfm', 'rtft', 'rtg', 'rto', 'rtr', 'rts', 'rtv', 'rtw', 'rv', 'rvb', 'rvr', 'rw', 'rwd', 'rwl', 'rwnj', 'rwp', 'rwys', 'ryc', 'ryn', 'ryo', 'sa', 'sab', 'sae', 'saf', 'safm', 'sahd', 'sahm', 'sahw', 'salts', 'sam', 'sap', 'sase', 'sat', 'sata', 'satc', 'sats', 'sbd', 'sbf', 'sbi', 'sbj', 'sbm', 'sbs', 'sbsp', 'sbt', 'scnr', 'scotus', 'scsi', 'scuba', 'sd', 'sda', 'sdk', 'sdmf', 'sdram', 'seo', 'sep', 'serp', 'sf', 'sfam', 'sflr', 'sfo', 'sfp', 'sfr', 'sfsg', 'sftbc', 'sfw', 'sgtm', 'shu', 'siwoti', 'slol', 'slr', 'smao', 'smdh', 'smdhe', 'sme', 'smgdh', 'smhid', 'smhl', 'smib', 'smidsy', 'sml', 'smn', 'smog', 'smop', 'sms', 'smt', 'smtp', 'snafu', 'snag', 'snc', 'snd', 'snes', 'snf', 'snm', 'snr', 'snyk', 'soa', 'soad', 'soag', 'sog', 'soh', 'sohf', 'soi', 'soidh', 'somd', 'soml', 'somsw', 'sooc', 'sood', 'sootb', 'sop', 'sopa', 'sorn', 'sos', 'sota', 'srh', 'srm', 'sro', 'srt', 'ss', 'ssa', 'ssbb', 'ssbhm', 'ssc', 'ssd', 'ssh', 'ssid', 'ssl', 'ssts', 'sswa', 'stw', 'sty', 'styl', 'su', 'suad', 'sul', 'sula', 'tb', 'tbbh', 'tbbt', 'tbch', 'tbd', 'tbe', 'tbf', 'tbfu', 'tbm', 'tbms', 'tbnt', 'tbph', 'tbqf', 'tbqfh', 'tbqh', 'tbr', 'tbs', 'tbss', 'tbt', 'tbtf', 'tbtg', 'tbth', 'tbtp', 'tbu', 'tbys', 'tc', 'tcby', 'tccic', 'tcfc', 'tcfn', 'tcfs', 'tcg', 'tcgb', 'tck', 'tcl', 'tcob', 'tcoy', 'tcp', 'tcp or ip', 'tctc', 'td', 'tddup', 'tddwp', 'tdf', 'tdg', 'tdh', 'tdi', 'tdl', 'tdm', 'tds', 'tdtf', 'tdwp', 'tdy', 'teotwawki', 'tfa', 'tfc', 'tfcd', 'tffw', 'tfi', 'tfios', 'tfl', 'tflmk', 'tflms', 'tfln', 'tfm', 'tfmtk', 'tfp', 'tfrm', 'tft', 'tfta', 'tftc', 'tftd', 'tftl', 'tg', 'tgal', 'tge', 'tgfg', 'tgfi', 'tgfl', 'tgft', 'tgi', 'tgia', 'tgiaf', 'tgim', 'tgio', 'tgit', 'tgod', 'tgp', 'tgtbt', 'thabto', 'thwu', 'tiic', 'tinag', 'tinalo', 'tinar', 'tinstafl', 'tla', 'tld', 'tldnr', 'tldr', 'tldw', 'tlgo', 'tli', 'tlnd', 'tlol', 'tltr', 'tlyk', 'tm', 'tma', 'tmai', 'tmb', 'tmbg', 'tmbi', 'tme', 'tmf', 'tmh', 'tmk', 'tml', 'tmlt', 'tmm', 'tmms', 'tmn', 'tmnt', 'tmp', 'tmr', 'tms', 'tmsidk', 'tmt', 'tmtc', 'tmth', 'tmtowtdi', 'tmts', 'tmtt', 'tmy', 'tmz', 'tna', 'tnb', 'tnbm', 'tnf', 'tng', 'tnl', 'tnln', 'tno', 'tnop', 'tnot', 'tnsl', 'tnstaafl', 'tnt', 'tntm', 'to', 'toc', 'tod', 'toefl', 'toeic', 'toft', 'toftt', 'toh', 'tol', 'tom', 'totb', 'totd', 'totga', 'totm', 'totus', 'toy', 'tp', 'tpam', 'tpb', 'tpe', 'tpk', 'tpo', 'tps', 'tpt', 'tptb', 'tr', 'traw', 'trdmc', 'trdmf', 'trg', 'ttfw', 'ttg', 'ttgg', 'tth', 'ttiuwp', 'ttiwwp', 'ttjasi', 'ttl', 'ttm', 'ttmab', 'ttml', 'tto', 'ttotm', 'ttp', 'ttr', 'ttt', 'ttte', 'ttth', 'tttt', 'tttty', 'ttul', 'ttus', 'ttut', 'ttutt', 'tty', 'ttyf', 'ttyiab', 'ttyitm', 'ttym', 'ttyn', 'ttyrs', 'ttyt', 'ttytt', 'ttyvs', 'tul', 'tvm', 'tw', 'twain', 'twloha', 'twoc', 'twtmc', 'twu', 'twyl', 'twyms', 'ty', 'tyb', 'tybg', 'tyfays', 'tyfe', 'tyfyt', 'tyg', 'tyj', 'tyl', 'tylj', 'tym', 'tymbi', 'tys', 'tysm', 'tysvm', 'tyt', 'uri', 'url', 'us', 'usa', 'usaf', 'usb', 'usbm', 'usc', 'uscg', 'usd', 'usmc', 'usp', 'usps', 'uss', 'ussr', 'usw', 'ut', 'utc', 'utd', 'ute', 'utf', 'utfl', 'uth', 'uti', 'uto', 'utp', 'utr', 'uts', 'utt', 'uv', 'uw', 'uws', 'ue', 'uy', 'va', 'vbd', 'vbl', 'vbr', 'vbs', 'vc', 'vcard', 'vcd', 'vcr', 'vdu', 'vfm', 'vg', 'vga', 'vgc', 'vgg', 'vgl', 'vgm', 'vh1', 'vhf', 'vhs', 'vibe', 'vid', 'vig', 'vin', 'vip', 'viz', 'vj', 'vlan', 'vlsi', 'vm', 'vma', 'vmi', 'vn', 'vnc', 'vnds', 'vnh', 'vns', 'voa', 'vod', 'voip', 'vp', 'vpl', 'vpn', 'vr', 'vs', 'vt', 'vtl', 'vtpr', 'vtr', 'vv', 'vvn', 'vwp', 'wafwot', 'waj', 'wak', 'wal', 'wamh', 'wamhas', 'waml', 'wap', 'wapce', 'warez', 'was', 'way', 'wayd', 'waydrn', 'waylt', 'wayoa', 'wayta', 'waywo', 'wbb', 'wbm', 'wbn', 'wbr', 'wbs', 'wbt', 'wbu', 'wbw', 'wby', 'wcb', 'wcg', 'wcis', 'wcs', 'wcw', 'wcyd', 'wd', 'wde', 'wdfd', 'wdh', 'wdib', 'wdic', 'wdim', 'wditot', 'wdmb', 'wdoml', 'wdtm', 'wdud', 'wdum', 'wdut', 'wdw', 'wdy', 'wdyd', 'wdydt', 'wdye', 'wdyg', 'wdym', 'wdymbt', 'wdys', 'wdyt', 'wdyw', 'wdywfm', 'wdywt', 'wdywtta', 'wef', 'wep', 'wfyb', 'whyb', 'whyd', 'wia', 'wip', 'wir', 'with', 'witw', 'wiuwy', 'wiwt', 'wiwwu', 'wiwwy', 'wiyp', 'wjd', 'wk', 'wks', 'wkyp', 'wlm', 'wltm', 'wlyb', 'wlyk', 'wm', 'wma', 'wmd', 'wmf', 'wmg', 'wml', 'wmmows', 'wmp', 'wmv', 'wmyb', 'wn', 'wnditwb', 'wnl', 'wnohgb', 'wntt', 'wnwy', 'woat', 'wob', 'woc', 'woe', 'wof', 'wog', 'wom', 'wombat', 'wos', 'wotam', 'wotcher', 'wotd', 'wotlk', 'wots', 'wp', 'wpa', 'wpm', 'wpww', 'wr', 'wrt', 'wru', 'wrud', 'wruta', 'wryd', 'wryta', 'wsic', 'wsm', 'wsp', 'wss', 'wst', 'wsul', 'wswta', 'wt', 'wta', 'wtb', 'wtbs', 'wtc', 'wtd', 'wtdt', 'wtdta', 'wtft', 'wtg', 'wtgp', 'wthay', 'wthc', 'wthigo', 'wthit', 'wthiwwy', 'wthn', 'wthru', 'wtii', 'wtk', 'wtl', 'wtlw', 'wtm', 'wtmi', 'wtml', 'wtmw', 'wto', 'wtp', 'wtt', 'wttc', 'wttir', 'wttj', 'wttm', 'wtw', 'wty', 'wtyo', 'wuciwug', 'wud', 'wug', 'wugowm', 'wul', 'wula', 'wullnp', 'wum', 'wuw', 'wuwcb', 'wuwh', 'wuwt', 'wuwta', 'wuwtb', 'wuwu', 'ww', 'wwa', 'wwbd', 'wwcnd', 'wwe', 'wwf', 'wwic', 'wwit', 'wwjbd', 'wwjd', 'wwjp', 'wwotw', 'wwtbam', 'wwu', 'www', 'wwwy', 'wwy', 'wwyd', 'wwydt', 'wya', 'wyatb', 'wyb', 'wybd', 'wybmv', 'wyd', 'wydn', 'wyf', 'wyg', 'wygowm', 'wyk', 'wyl', 'wylaboctgwtr', 'wylasomwtc', 'wylion', 'wylscwtw', 'wylt', 'wym', 'wymm', 'wyn', 'wyp', 'wyr', 'wys', 'wysiwyg', 'wyta', 'wyut', 'wyw', 'wywta', 'yagb', 'yala', 'yana', 'yatb', 'yatk', 'yatloml', 'yavw', 'yaw', 'ybs', 'ybtj', 'ybw', 'ybwm', 'ycmiu', 'ydek', 'ydi', 'ydk', 'ydl', 'ydms', 'ydmt', 'yds', 'ydu', 'yf', 'yfw', 'yg', 'ygg', 'ygi', 'yglt', 'ygpm', 'ygtbk', 'ygtbkm', 'ygti', 'ygtr', 'yha', 'yhbt', 'yhbw', 'yhgasp', 'yhl', 'yhm', 'yhni', 'yhtbt', 'yid', 'yik', 'yitb', 'yite', 'yjltg', 'yk', 'ykhii', 'ykims', 'yktr', 'ykw', 'ykwim', 'ykwis', 'ykylm', 'yl', 'yli', 'ylm', 'ylod', 'ylyl', 'ym', 'ymbj', 'ymca', 'ymcmb', 'ymmd', 'ymml', 'ymms', 'ymw', 'ynk', 'ynw', 'ynwa', 'yolf', 'yomb', 'yoyo', 'yp', 'yqw', 'yr', 'yrg', 'yrmv', 'yro', 'yru', 'ysc', 'ysi', 'ysk', 'ysmtu', 'yss', 'ysvw', 'ysyl', 'yt', 'ytd', 'ytm', 'ytml', 'ytmnd', 'yto', 'ytp', 'yttm', 'yum', 'yvw', 'ywca', 'ywimc', 'ywu', \"a'ight\", \"ain't\", \"amn't\", 'n', 'arencha', \"aren't\", 'bout', \"boy's\", \"can't\", \"cap'n\", 'cause', 'cuz', 'cept', \"could've\", \"couldn't\", \"couldn't've\", 'cuppa', \"daren't\", \"daresn't\", \"dasn't\", \"didn't\", \"doesn't\", \"don't\", 'dunno', \"d'ye\", \"d'ya\", \"e'en\", \"e'er\", 'em', \"everybody's\", \"everyone's\", \"everything's\", 'finna', \"fo'c'sle\", 'gainst', \"g'day\", 'gimme', \"girl's\", \"giv'n\", \"gi'z\", 'gonna', \"gon't\", 'gotta', \"guy's\", \"hadn't\", \"had've\", \"hasn't\", \"haven't\", \"he'd\", \"he'll\", 'helluva', \"he's\", \"here's\", \"how'd\", \"how'll\", \"how're\", \"how's\", \"I'd\", \"I'd've\", \"I'd'nt\", \"I'd'nt've\", \"If'n\", \"I'll\", \"I'm\", 'Imma', \"I'm'o\", 'innit', 'Ion', \"I've\", \"isn't\", \"it'd\", \"it'll\", \"it's\", 'Idunno', 'kinda', \"let's\", \"loven't\", \"ma'am\", \"mayn't\", \"may've\", 'methinks', \"mightn't\", \"might've\", \"mine's\", \"mustn't\", \"mustn't've\", \"must've\", 'neath', \"needn't\", \"ne'er\", \"o'clock\", \"o'er\", \"ol'\", \"ought've\", \"oughtn't\", \"oughtn't've\", 'round', 's', \"shalln't\", \"shan'\", \"shan't\", \"she'd\", \"she'll\", \"she's\", \"should've\", \"shouldn't\", \"shouldn't've\", \"somebody's\", \"someone's\", \"something's\", \"so're\", \"so's\", \"so've\", \"that'll\", \"that're\", \"that's\", \"that'd\", \"there'd\", \"there'll\", \"there're\", \"there's\", \"these're\", \"these've\", \"they'd\", \"they'll\", \"they're\", \"they've\", \"this's\", \"those're\", \"those've\", 'thout', 'till', 'til', 'tis', \"to've\", 'twas', 'tween', 'twere', \"w'all\", \"w'at\", 'wanna', \"wasn't\", \"we'd\", \"we'd've\", \"we'll\", \"we're\", \"we've\", \"weren't\", 'whatcha', \"what'd\", \"what'll\", \"what're\", \"what's\", \"what've\", \"when's\", \"where'd\", \"where'll\", \"where're\", \"where's\", \"where've\", \"which'd\", \"which'll\", \"which're\", \"which's\", \"which've\", \"who'd\", \"who'd've\", \"who'll\", \"who're\", \"who's\", \"who've\", \"why'd\", \"why're\", \"why's\", \"willn't\", \"won't\", 'wonnot', \"would've\", \"wouldn't\", \"wouldn't've\", \"y'ain't\", \"y'all\", \"y'all'd've\", \"y'all'd'n't've\", \"y'all're\", \"y'all'ren't\", \"y'at\", \"yes'm\", \"y'know\", 'yessir', \"you'd\", \"you'll\", \"you're\", \"you've\", \"when'd\"])"
      ]
     },
     "execution_count": 6,
     "metadata": {},
     "output_type": "execute_result"
    }
   ],
   "source": [
    "abbreviations_dict = df_abbreviations.set_index('Acronym')['Expansion'].to_dict()\n",
    "abbreviations_dict.keys()"
   ]
  },
  {
   "cell_type": "code",
   "execution_count": 7,
   "metadata": {},
   "outputs": [],
   "source": [
    "def replace_abbreviations(tweet, abbreviations_dict):\n",
    "    \n",
    "    results = []\n",
    "    for sentence in tweet:\n",
    "        words = sentence.split()\n",
    "        for i, word in enumerate(words):\n",
    "            stripped_word = word.strip(string.punctuation)\n",
    "            for key, value in abbreviations_dict.items():\n",
    "                if stripped_word == key:\n",
    "                    words[i] = value+ word[len(stripped_word):]\n",
    "                    break\n",
    "        results.append(\" \".join(words))\n",
    "    return results"
   ]
  }
 ],
 "metadata": {
  "kernelspec": {
   "display_name": "Python 3",
   "language": "python",
   "name": "python3"
  },
  "language_info": {
   "codemirror_mode": {
    "name": "ipython",
    "version": 3
   },
   "file_extension": ".py",
   "mimetype": "text/x-python",
   "name": "python",
   "nbconvert_exporter": "python",
   "pygments_lexer": "ipython3",
   "version": "3.9.12"
  },
  "orig_nbformat": 4
 },
 "nbformat": 4,
 "nbformat_minor": 2
}
