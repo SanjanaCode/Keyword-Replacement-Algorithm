{
 "cells": [
  {
   "cell_type": "code",
   "execution_count": 11,
   "metadata": {},
   "outputs": [],
   "source": [
    "import pandas as pd\n",
    "import string\n",
    "from optimizedApproachAlgorithm import *\n",
    "from helperFunctions import *\n",
    "from matplotlib import pyplot as plt\n",
    "import numpy as np"
   ]
  },
  {
   "cell_type": "code",
   "execution_count": 3,
   "metadata": {},
   "outputs": [],
   "source": [
    "# Read in the data\n",
    "df_tweets = pd.read_csv(\"../data/tweets.csv\")\n"
   ]
  },
  {
   "cell_type": "code",
   "execution_count": 4,
   "metadata": {},
   "outputs": [
    {
     "data": {
      "text/html": [
       "<div>\n",
       "<style scoped>\n",
       "    .dataframe tbody tr th:only-of-type {\n",
       "        vertical-align: middle;\n",
       "    }\n",
       "\n",
       "    .dataframe tbody tr th {\n",
       "        vertical-align: top;\n",
       "    }\n",
       "\n",
       "    .dataframe thead th {\n",
       "        text-align: right;\n",
       "    }\n",
       "</style>\n",
       "<table border=\"1\" class=\"dataframe\">\n",
       "  <thead>\n",
       "    <tr style=\"text-align: right;\">\n",
       "      <th></th>\n",
       "      <th>content</th>\n",
       "    </tr>\n",
       "  </thead>\n",
       "  <tbody>\n",
       "    <tr>\n",
       "      <th>0</th>\n",
       "      <td>Love it!</td>\n",
       "    </tr>\n",
       "    <tr>\n",
       "      <th>1</th>\n",
       "      <td>So awesome. Read my morning meditation anytime...</td>\n",
       "    </tr>\n",
       "    <tr>\n",
       "      <th>2</th>\n",
       "      <td>Just replaced one add with another, albeit AA ...</td>\n",
       "    </tr>\n",
       "    <tr>\n",
       "      <th>3</th>\n",
       "      <td>Don't bother upgrading. There is zero differen...</td>\n",
       "    </tr>\n",
       "    <tr>\n",
       "      <th>4</th>\n",
       "      <td>Every time I go to share the reading it pops u...</td>\n",
       "    </tr>\n",
       "  </tbody>\n",
       "</table>\n",
       "</div>"
      ],
      "text/plain": [
       "                                             content\n",
       "0                                           Love it!\n",
       "1  So awesome. Read my morning meditation anytime...\n",
       "2  Just replaced one add with another, albeit AA ...\n",
       "3  Don't bother upgrading. There is zero differen...\n",
       "4  Every time I go to share the reading it pops u..."
      ]
     },
     "execution_count": 4,
     "metadata": {},
     "output_type": "execute_result"
    }
   ],
   "source": [
    "df_tweets.head()"
   ]
  },
  {
   "cell_type": "code",
   "execution_count": 5,
   "metadata": {},
   "outputs": [
    {
     "data": {
      "text/html": [
       "<div>\n",
       "<style scoped>\n",
       "    .dataframe tbody tr th:only-of-type {\n",
       "        vertical-align: middle;\n",
       "    }\n",
       "\n",
       "    .dataframe tbody tr th {\n",
       "        vertical-align: top;\n",
       "    }\n",
       "\n",
       "    .dataframe thead th {\n",
       "        text-align: right;\n",
       "    }\n",
       "</style>\n",
       "<table border=\"1\" class=\"dataframe\">\n",
       "  <thead>\n",
       "    <tr style=\"text-align: right;\">\n",
       "      <th></th>\n",
       "      <th>content</th>\n",
       "    </tr>\n",
       "  </thead>\n",
       "  <tbody>\n",
       "    <tr>\n",
       "      <th>0</th>\n",
       "      <td>Love it!</td>\n",
       "    </tr>\n",
       "    <tr>\n",
       "      <th>1</th>\n",
       "      <td>So awesome. Read my morning meditation anytime...</td>\n",
       "    </tr>\n",
       "    <tr>\n",
       "      <th>2</th>\n",
       "      <td>Just replaced one add with another, albeit AA ...</td>\n",
       "    </tr>\n",
       "    <tr>\n",
       "      <th>3</th>\n",
       "      <td>Don't bother upgrading. There is zero differen...</td>\n",
       "    </tr>\n",
       "    <tr>\n",
       "      <th>4</th>\n",
       "      <td>Every time I go to share the reading it pops u...</td>\n",
       "    </tr>\n",
       "  </tbody>\n",
       "</table>\n",
       "</div>"
      ],
      "text/plain": [
       "                                             content\n",
       "0                                           Love it!\n",
       "1  So awesome. Read my morning meditation anytime...\n",
       "2  Just replaced one add with another, albeit AA ...\n",
       "3  Don't bother upgrading. There is zero differen...\n",
       "4  Every time I go to share the reading it pops u..."
      ]
     },
     "execution_count": 5,
     "metadata": {},
     "output_type": "execute_result"
    }
   ],
   "source": [
    "tweets = df_tweets['content'].tolist()\n",
    "df_tweets.head()"
   ]
  },
  {
   "cell_type": "code",
   "execution_count": 6,
   "metadata": {},
   "outputs": [],
   "source": [
    "# Read in the data\n",
    "df_abbreviations = pd.read_csv(\"../data/common_abb_keyword.csv\")"
   ]
  },
  {
   "cell_type": "code",
   "execution_count": 7,
   "metadata": {},
   "outputs": [
    {
     "data": {
      "text/html": [
       "<div>\n",
       "<style scoped>\n",
       "    .dataframe tbody tr th:only-of-type {\n",
       "        vertical-align: middle;\n",
       "    }\n",
       "\n",
       "    .dataframe tbody tr th {\n",
       "        vertical-align: top;\n",
       "    }\n",
       "\n",
       "    .dataframe thead th {\n",
       "        text-align: right;\n",
       "    }\n",
       "</style>\n",
       "<table border=\"1\" class=\"dataframe\">\n",
       "  <thead>\n",
       "    <tr style=\"text-align: right;\">\n",
       "      <th></th>\n",
       "      <th>Acronym</th>\n",
       "      <th>Expansion</th>\n",
       "    </tr>\n",
       "  </thead>\n",
       "  <tbody>\n",
       "    <tr>\n",
       "      <th>0</th>\n",
       "      <td>2day</td>\n",
       "      <td>today</td>\n",
       "    </tr>\n",
       "    <tr>\n",
       "      <th>1</th>\n",
       "      <td>2m2h</td>\n",
       "      <td>too much too handle</td>\n",
       "    </tr>\n",
       "    <tr>\n",
       "      <th>2</th>\n",
       "      <td>2moro</td>\n",
       "      <td>tomorrow</td>\n",
       "    </tr>\n",
       "    <tr>\n",
       "      <th>3</th>\n",
       "      <td>2nite</td>\n",
       "      <td>tonight</td>\n",
       "    </tr>\n",
       "    <tr>\n",
       "      <th>4</th>\n",
       "      <td>4eae</td>\n",
       "      <td>for ever and ever</td>\n",
       "    </tr>\n",
       "  </tbody>\n",
       "</table>\n",
       "</div>"
      ],
      "text/plain": [
       "  Acronym            Expansion\n",
       "0    2day                today\n",
       "1    2m2h  too much too handle\n",
       "2   2moro             tomorrow\n",
       "3   2nite              tonight\n",
       "4    4eae    for ever and ever"
      ]
     },
     "execution_count": 7,
     "metadata": {},
     "output_type": "execute_result"
    }
   ],
   "source": [
    "df_abbreviations.head()"
   ]
  },
  {
   "cell_type": "code",
   "execution_count": null,
   "metadata": {},
   "outputs": [],
   "source": [
    "abbreviations_dict = df_abbreviations.set_index('Acronym')['Expansion'].to_dict()\n",
    "abbreviations_dict"
   ]
  },
  {
   "cell_type": "code",
   "execution_count": 12,
   "metadata": {},
   "outputs": [],
   "source": [
    "#run the algorithm\n",
    "n = 400000\n",
    "results = replace_abbreviations(tweets[:n], abbreviations_dict)\n",
    "\n",
    "#for i in range(n):\n",
    "   # print(tweets[i])\n",
    "    #print(results[i])"
   ]
  },
  {
   "cell_type": "code",
   "execution_count": 13,
   "metadata": {},
   "outputs": [
    {
     "name": "stdout",
     "output_type": "stream",
     "text": [
      "[0, 1, 2, 4, 8, 10, 16, 20, 30, 32, 40, 50, 60, 64, 70, 80, 90, 100, 110, 120, 120, 128, 130, 140, 150, 160, 170, 180, 180, 190, 240, 256, 300, 360, 420, 480, 540, 600, 660, 720, 780, 840, 900, 960, 1020, 1080, 1140, 1200, 1260, 1320, 1380, 1440, 1500, 1560, 1620, 1680, 1740, 1800, 1860, 1920, 1980, 2040, 2100, 2160, 2220, 2280, 2340, 2400, 2460, 2520, 2580, 2640, 2700, 2760, 2820, 2880, 2940]\n"
     ]
    }
   ],
   "source": [
    "# # Generate some evaluation points\n",
    "# #tVals is a list of values of possible number of tweets\n",
    "# tVals = [2**k for k in range(9)] \n",
    "# tVals += [k*10 for k in range(20)]\n",
    "# tVals += [k*60 for k in range(2,50)]\n",
    "# tVals.sort() # put them in order\n",
    "# print(tVals)"
   ]
  },
  {
   "cell_type": "code",
   "execution_count": 16,
   "metadata": {},
   "outputs": [
    {
     "name": "stdout",
     "output_type": "stream",
     "text": [
      "[0, 1, 2, 4, 8, 10, 16, 20, 30, 32, 40, 50, 60, 64, 70, 80, 90, 100, 110, 120, 128, 130, 140, 150, 160, 170, 180, 190, 240, 256, 300, 360, 420, 480, 540, 600, 660, 720, 780, 840, 900, 960, 1020, 1080, 1140, 1200, 1260, 1320, 1380, 1440, 1500, 1560, 1620, 1680, 1740, 1800, 1860, 1920, 1980, 2040, 2100, 2160, 2220, 2280, 2340, 2400, 2460, 2520, 2580, 2640, 2700, 2760, 2820, 2880, 2940, 7200, 10800, 14400, 18000, 21600, 25200, 28800, 32400, 36000, 39600, 43200, 46800, 50400, 54000, 57600, 61200, 64800, 68400, 72000, 75600, 79200, 82800, 86400, 90000, 93600, 97200, 100800, 104400, 108000, 111600, 115200, 118800, 122400, 126000, 129600, 133200, 136800, 140400, 144000, 147600, 151200, 154800, 158400, 162000, 165600, 169200, 172800, 176400, 180000, 183600, 187200, 190800, 194400, 198000, 201600, 205200, 208800, 212400, 216000, 219600, 223200, 226800, 230400, 234000, 237600, 241200, 244800, 248400, 252000, 255600, 259200, 262800, 266400, 270000, 273600, 277200, 280800, 284400, 288000, 291600, 295200, 298800, 302400, 306000, 309600, 313200, 316800, 320400, 324000, 327600, 331200, 334800, 338400, 342000, 345600, 349200, 352800, 356400]\n"
     ]
    }
   ],
   "source": [
    "#generate list of input sizes\n",
    "tVals = [2**k for k in range(9)]\n",
    "tVals += [k*10 for k in range(20)]\n",
    "tVals += [k*60 for k in range(2,50)]\n",
    "tVals += [k*3600 for k in range(2,100)] # add values in seconds\n",
    "tVals = sorted(list(set(tVals))) # put them in order and remove duplicates\n",
    "tVals = [t for t in tVals if t <= 400000] # filter out values greater than 400000\n",
    "print(tVals)\n"
   ]
  },
  {
   "cell_type": "code",
   "execution_count": 17,
   "metadata": {},
   "outputs": [],
   "source": [
    "tValsRec, timeValsRec = calculateTimeForEachN(replace_abbreviations, tVals, tweets, abbreviations_dict, numTrials=5)"
   ]
  },
  {
   "cell_type": "code",
   "execution_count": 85,
   "metadata": {},
   "outputs": [
    {
     "name": "stderr",
     "output_type": "stream",
     "text": [
      "C:\\Users\\andy\\AppData\\Local\\Temp\\ipykernel_7184\\405959810.py:5: RuntimeWarning: divide by zero encountered in log\n",
      "  plt.plot(tValsRec, [  coeffs[3] +coeffs[2]*t + coeffs[1]*t**2 + coeffs[0]*(t**2)*(np.log(t)) for t in tValsRec], color=\"purple\", label=\"polynomial fit\")\n",
      "C:\\Users\\andy\\AppData\\Local\\Temp\\ipykernel_7184\\405959810.py:5: RuntimeWarning: invalid value encountered in double_scalars\n",
      "  plt.plot(tValsRec, [  coeffs[3] +coeffs[2]*t + coeffs[1]*t**2 + coeffs[0]*(t**2)*(np.log(t)) for t in tValsRec], color=\"purple\", label=\"polynomial fit\")\n"
     ]
    },
    {
     "data": {
      "text/plain": [
       "Text(0.5, 1.0, 'Keyword Replacement Algorithm')"
      ]
     },
     "execution_count": 85,
     "metadata": {},
     "output_type": "execute_result"
    },
    {
     "data": {
      "image/png": "[encoded data removed]",
      "text/plain": [
       "<Figure size 432x288 with 1 Axes>"
      ]
     },
     "metadata": {
      "needs_background": "light"
     },
     "output_type": "display_data"
    }
   ],
   "source": [
    "plt.plot(tValsRec, timeValsRec, color=\"red\", label=\"optimized implementation\")\n",
    "if True:\n",
    "    coeffs = np.polyfit( tValsRec, timeValsRec, 3 )\n",
    "    plt.plot(tValsRec, [  coeffs[3] +coeffs[2]*t + coeffs[1]*t**2 + coeffs[0]*(t**2)*(np.log(t)) for t in tValsRec], color=\"purple\", label=\"polynomial fit\")\n",
    "   \n",
    "plt.xlabel(\"Number of Tweets (t)\")\n",
    "plt.ylabel(\"Time(ms)\")\n",
    "plt.legend()\n",
    "plt.title(\"Keyword Replacement Algorithm\")"
   ]
  }
 ],
 "metadata": {
  "kernelspec": {
   "display_name": "Python 3",
   "language": "python",
   "name": "python3"
  },
  "language_info": {
   "codemirror_mode": {
    "name": "ipython",
    "version": 3
   },
   "file_extension": ".py",
   "mimetype": "text/x-python",
   "name": "python",
   "nbconvert_exporter": "python",
   "pygments_lexer": "ipython3",
   "version": "3.8.8"
  },
  "orig_nbformat": 4
 },
 "nbformat": 4,
 "nbformat_minor": 2
}
